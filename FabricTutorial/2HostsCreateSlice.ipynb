{
 "cells": [
  {
   "cell_type": "markdown",
   "id": "5f373d6e-223a-479a-971c-c39c02aa1390",
   "metadata": {},
   "source": [
    "# Create Slice for Fabric Rack\n",
    "This is the slice creation for the ```Ryu & Mininet``` tutorial. This is the first step to create the slice on fabric using fablib.\n",
    "\n",
    "<b> Prerequisites  \n",
    "    \n",
    "* You need to have your FABRIC bastion host key pair set up to do this tutorial. If you have not already set this up, follow steps 1-5 at https://github.com/fabric-testbed/teaching-materials/blob/main/Getting%20Started.md#section-1-get-started.\n",
    " "
   ]
  },
  {
   "cell_type": "markdown",
   "id": "666690b5-70b0-4dcd-9c8e-c4aaaa9f85a8",
   "metadata": {
    "tags": []
   },
   "source": [
    "## 1. Set up the Experiment\n",
    "\n",
    "In this section you will use the Fablib manager to create a new slice that is composed of 2 nodes for the Ryu & Mininet testbed.\n",
    "### 1.1 Reserve Resources\n",
    "In this section we will declare the structure of the slice we will be using."
   ]
  },
  {
   "cell_type": "code",
   "execution_count": null,
   "id": "3e84a125-c5f8-4b38-ada2-b585ee5a83ab",
   "metadata": {
    "scrolled": true
   },
   "outputs": [],
   "source": [
    "# Import Fablib\n",
    "from fabrictestbed_extensions.fablib.fablib import FablibManager as fablib_manager\n",
    "fablib = fablib_manager()                     \n",
    "fablib.show_config()\n",
    "import json\n",
    "import traceback"
   ]
  },
  {
   "cell_type": "code",
   "execution_count": null,
   "id": "c750ec14-1761-4592-8530-78edd3968a4a",
   "metadata": {},
   "outputs": [],
   "source": [
    "# Define and Submit Slice\n",
    "slice_name = \"MininetWorkspace\"\n",
    "site = \"EDUKY\"\n",
    "print(site)\n",
    "#The model of the VM\n",
    "nicmodel = \"NIC_Basic\"\n",
    "image = \"default_ubuntu_20\"\n",
    "\n",
    "cores = 1\n",
    "ram = 2\n",
    "disk = 10"
   ]
  },
  {
   "cell_type": "code",
   "execution_count": null,
   "id": "a206b6be-d3f8-4e6f-ab42-f0ea79c23d7b",
   "metadata": {},
   "outputs": [],
   "source": [
    "try:\n",
    "    # Create a slice\n",
    "    slice = fablib.new_slice(name=slice_name)\n",
    "    #first Node\n",
    "    ND1 = slice.add_node(name=\"Host\", site=site)\n",
    "    ND1.set_capacities(cores=cores, ram=ram, disk=disk)\n",
    "    ND1.set_image(image)\n",
    "    Net_ND1 = ND1.add_component(model=nicmodel, name=\"ND_Host\").get_interfaces()[0]\n",
    "    \n",
    "\n",
    "    #Second Node\n",
    "    ND2 = slice.add_node(name=\"Controller\", site=site)\n",
    "    ND2.set_capacities(cores=cores, ram=ram, disk=disk)\n",
    "    ND2.set_image(image)\n",
    "    Net_ND2 = ND2.add_component(model=nicmodel, name=\"ND_Controller\").get_interfaces()[0] \n",
    "\n",
    "    #Lan\n",
    "    LN = slice.add_l2network(name=\"Lan\", interfaces=[Net_ND1, Net_ND2])\n",
    "    \n",
    "    # Submit the slice\n",
    "    slice.submit()\n",
    "except Exception as e:\n",
    "    print(f\"Exception: {e}\")"
   ]
  },
  {
   "cell_type": "markdown",
   "id": "f5304bf1-6ad5-4c5e-88eb-1a42cb7aeaff",
   "metadata": {
    "tags": []
   },
   "source": [
    "### 1.2 Set up the Experiment Network\n",
    "In this section of the slice creation, once the nodes are active, will assign the network spaces some predefined values that we will use for the assignment"
   ]
  },
  {
   "cell_type": "code",
   "execution_count": null,
   "id": "bb9d4f34-014e-4444-9162-ea766dbbea10",
   "metadata": {
    "scrolled": true
   },
   "outputs": [],
   "source": [
    "# Setup Network\n",
    "from ipaddress import ip_address, IPv4Address, IPv6Address, IPv4Network, IPv6Network\n",
    "\n",
    "try:\n",
    "    subnet = IPv4Network(\"10.0.0.0/24\")\n",
    "    Network = 'Lan'\n",
    "    \n",
    "    A = slice.get_node('Host')\n",
    "    B = slice.get_node('Controller')\n",
    "    \n",
    "    #A's lan\n",
    "    A_iface = A.get_interface(network_name=Network)  \n",
    "    A_iface.ip_addr_add(addr='10.0.0.1', subnet=subnet)\n",
    "    #B's Lan\n",
    "    B_iface = B.get_interface(network_name=Network)  \n",
    "    B_iface.ip_addr_add(addr='10.0.0.2', subnet=subnet)\n",
    "    \n",
    "    for node in slice.get_nodes():\n",
    "        for interface in node.get_interfaces():\n",
    "            stdout, stderr = node.execute(f'sudo ip link set dev { interface.get_device_name()} up')\n",
    "            if (node.get_name() == \"ND_A\"):\n",
    "                A_Device_Name = interface.get_device_name()\n",
    "        print(f\"Network status at node {node.get_name()}\")\n",
    "        node.execute(\"ip a\")\n",
    "        \n",
    "except Exception as e:\n",
    "    print(f\"Fail: {e}\")"
   ]
  },
  {
   "cell_type": "markdown",
   "id": "52d7d36c-a78f-4f8c-81a3-ea7ead4e5111",
   "metadata": {},
   "source": [
    "### Test the connection for the nodes\n",
    "This code will ping each respective node\n"
   ]
  },
  {
   "cell_type": "code",
   "execution_count": null,
   "id": "7d829c93-f2b5-452b-b4c4-e5e8d49f5e27",
   "metadata": {},
   "outputs": [],
   "source": [
    " # Test connectivity between Host_1 and ControllerNode\n",
    "print(\"Pinging ControllerNode from Host_1...\")\n",
    "A.execute('ping -c 4 10.0.0.2')  # Ping ControllerNode from Host_1\n",
    "    \n",
    "print(\"Pinging Host_1 from ControllerNode...\")\n",
    "B.execute('ping -c 4 10.0.0.1')  # Ping Host_1 from ControllerNode"
   ]
  },
  {
   "cell_type": "markdown",
   "id": "9b7bdd62-b6b9-4b96-8c4e-97a0ecc4bdb1",
   "metadata": {
    "tags": []
   },
   "source": [
    "### 1.3 Configure the software needed for the nodes in the experiment\n",
    "This section of the slice creation, we will add any aditional software, tools or scripts that we need for our experiments."
   ]
  },
  {
   "cell_type": "code",
   "execution_count": null,
   "id": "924fb507-78d6-49c6-a740-3c3a64770c76",
   "metadata": {
    "scrolled": true,
    "tags": []
   },
   "outputs": [],
   "source": [
    "# Install Software including Mininet on Host\n",
    "try:\n",
    "    # Install common software on all nodes\n",
    "    for node in slice.get_nodes():\n",
    "        node.execute('yes | sudo apt-get -y update && sudo apt-get upgrade -y') \n",
    "        node.execute('sudo apt-get -y install net-tools')\n",
    "\n",
    "    # Install Ryu controller and dependencies on the Controller node\n",
    "    B.execute('sudo apt install python3-pip -y')\n",
    "    B.execute('sudo apt install gcc python-dev libffi-dev libssl-dev libxml2-dev libxslt1-dev zlib1g-dev -y')\n",
    "    B.execute('sudo apt-get install python3-ryu -y')\n",
    "    B.execute('git clone https://github.com/faucetsdn/ryu.git')\n",
    "    B.execute('git clone https://github.com/dabun01/Mininet_Ryu_Tutorial')\n",
    "\n",
    "    # Install Mininet on Host_1\n",
    "    print(\"Installing Mininet on Host_1...\")\n",
    "    A.execute('sudo apt-get -y install mininet')\n",
    "    A.execute('git clone https://github.com/dabun01/Mininet_Ryu_Tutorial')\n",
    "    \n",
    "    print(\"Software installation completed successfully.\")\n",
    "\n",
    "except Exception as e:\n",
    "    print(f\"Fail: {e}\")\n",
    "    "
   ]
  },
  {
   "cell_type": "markdown",
   "id": "f60750e1-b1a9-4892-970b-ded9f21475da",
   "metadata": {
    "tags": []
   },
   "source": [
    "## Continue to The experiment notebook\n",
    "\n",
    "Once you have completed this notebook you should be able to continue to the Ryu & Mininet Notebook. You can either open it on the explorer or click [Here](./Mininet.ipynb) to open the next notebook."
   ]
  }
 ],
 "metadata": {
  "kernelspec": {
   "display_name": "Python 3 (ipykernel)",
   "language": "python",
   "name": "python3"
  },
  "language_info": {
   "codemirror_mode": {
    "name": "ipython",
    "version": 3
   },
   "file_extension": ".py",
   "mimetype": "text/x-python",
   "name": "python",
   "nbconvert_exporter": "python",
   "pygments_lexer": "ipython3",
   "version": "3.11.8"
  }
 },
 "nbformat": 4,
 "nbformat_minor": 5
}
